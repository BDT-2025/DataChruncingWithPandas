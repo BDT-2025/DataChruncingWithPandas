{
 "cells": [
  {
   "cell_type": "code",
   "execution_count": null,
   "id": "9e6083d2-36f6-4637-943b-0bff7f3a2104",
   "metadata": {},
   "outputs": [],
   "source": [
    "import pandas as pd"
   ]
  },
  {
   "cell_type": "code",
   "execution_count": null,
   "id": "735b5f0d-b5f6-4a2c-a3c3-09ee88b86379",
   "metadata": {},
   "outputs": [],
   "source": [
    "pd.Series([10, 20, 30, 40])"
   ]
  },
  {
   "cell_type": "code",
   "execution_count": null,
   "id": "426263e4-f787-407a-beee-ee49dec3e132",
   "metadata": {},
   "outputs": [],
   "source": [
    "data = {\n",
    "    'Name': ['Alice', 'Bob', 'Charlie'],\n",
    "    'Age': [25, 30, 35],\n",
    "    'Salary': [50000, 60000, 70000]\n",
    "}\n",
    "df = pd.DataFrame(data)\n",
    "df"
   ]
  },
  {
   "cell_type": "code",
   "execution_count": null,
   "id": "a87dc25d-b1b8-4134-baa0-72db2b2da7be",
   "metadata": {},
   "outputs": [],
   "source": [
    "df.to_csv(\"person_output.csv\")"
   ]
  },
  {
   "cell_type": "code",
   "execution_count": null,
   "id": "8337c8bb-2d7e-4c47-b377-b5873e0a4aaf",
   "metadata": {},
   "outputs": [],
   "source": [
    "pd.read_csv(\"person_output.csv\")"
   ]
  },
  {
   "cell_type": "code",
   "execution_count": null,
   "id": "d8d445c3-0b79-4632-95aa-5e900c24ca0c",
   "metadata": {},
   "outputs": [],
   "source": [
    "df.tail()"
   ]
  },
  {
   "cell_type": "code",
   "execution_count": null,
   "id": "c7677573-b5fe-4fc8-be7c-a5cb15500340",
   "metadata": {},
   "outputs": [],
   "source": [
    "df.info()"
   ]
  },
  {
   "cell_type": "code",
   "execution_count": null,
   "id": "23420b80-7fe9-4068-b53b-13ac92c9b087",
   "metadata": {},
   "outputs": [],
   "source": [
    "df.describe()"
   ]
  },
  {
   "cell_type": "code",
   "execution_count": null,
   "id": "7329dcff-8e3e-4b80-9a1c-822780d19156",
   "metadata": {},
   "outputs": [],
   "source": [
    "df[['Age', 'Name']]"
   ]
  },
  {
   "cell_type": "code",
   "execution_count": null,
   "id": "ff2b2d3a-cf26-4a0b-b261-1d2a3ac99178",
   "metadata": {},
   "outputs": [],
   "source": [
    "df"
   ]
  },
  {
   "cell_type": "code",
   "execution_count": null,
   "id": "a1171147-aa6c-4c0e-8736-edb37f06086f",
   "metadata": {},
   "outputs": [],
   "source": [
    "df[\"Bonus\"] = df[\"Salary\"] *0.1"
   ]
  },
  {
   "cell_type": "code",
   "execution_count": null,
   "id": "257bb26a-9be8-4322-8cff-2865aec07f97",
   "metadata": {},
   "outputs": [],
   "source": [
    "df"
   ]
  },
  {
   "cell_type": "code",
   "execution_count": null,
   "id": "2d095137-6ea8-40ca-88f7-6dbe94228f40",
   "metadata": {},
   "outputs": [],
   "source": [
    "df[\"new column\"] = \"a\""
   ]
  },
  {
   "cell_type": "code",
   "execution_count": null,
   "id": "43876cfd-0c2f-4106-8850-ef9c14b34013",
   "metadata": {},
   "outputs": [],
   "source": [
    "df"
   ]
  },
  {
   "cell_type": "code",
   "execution_count": null,
   "id": "26fb3ae7-1906-4668-80c7-e5e84f234246",
   "metadata": {},
   "outputs": [],
   "source": [
    "df[\"total slary\"] = df[\"Salary\"] + df[\"Bonus\"]\n",
    "df"
   ]
  },
  {
   "cell_type": "code",
   "execution_count": null,
   "id": "e0cfaa6d-6199-4321-b490-0df50278ab3b",
   "metadata": {},
   "outputs": [],
   "source": [
    "df"
   ]
  },
  {
   "cell_type": "code",
   "execution_count": null,
   "id": "555c64ce-08e1-4d5d-b510-fb9ec4fdf625",
   "metadata": {},
   "outputs": [],
   "source": [
    "data2 = {\n",
    "    'Name': ['Alice', 'Bob', 'Charlie', 'Mario'],\n",
    "    'Age': [25, 30, 35, 25],\n",
    "    'Salary': [50000, 60000, 70000, 70000]\n",
    "}\n",
    "df2 = pd.DataFrame(data2)\n",
    "df2"
   ]
  },
  {
   "cell_type": "code",
   "execution_count": null,
   "id": "a0c96662-fd17-4623-86c0-2da1e221bc41",
   "metadata": {},
   "outputs": [],
   "source": [
    "df2.groupby(\"Age\").agg({\n",
    "    \"Salary\": \"mean\",\n",
    "    \"Name\": \"count\"\n",
    "})"
   ]
  },
  {
   "cell_type": "code",
   "execution_count": null,
   "id": "17f36f68-343b-4dee-9a55-669a46a4f17e",
   "metadata": {},
   "outputs": [],
   "source": [
    "df2.groupby(\"Age\").count()"
   ]
  },
  {
   "cell_type": "code",
   "execution_count": null,
   "id": "ad364bb5-3214-4f5d-9aca-49328ee469f9",
   "metadata": {},
   "outputs": [],
   "source": [
    "data3 = {\n",
    "    'Name': ['Alice', 'Bob', 'Charlie', 'Mario'],\n",
    "    'Nationality': ['ITA', 'USA', 'USA', 'ITA']\n",
    "}\n",
    "df3 = pd.DataFrame(data3)\n",
    "df3"
   ]
  },
  {
   "cell_type": "code",
   "execution_count": null,
   "id": "9ccd4f15-fe0f-41f8-826f-27358c1f788b",
   "metadata": {},
   "outputs": [],
   "source": [
    "merged_df=pd.merge(df2, df3, on=\"Name\", how=\"inner\")\n",
    "merged_df"
   ]
  },
  {
   "cell_type": "code",
   "execution_count": null,
   "id": "b3ad1777-a38f-4490-a8ee-89d76146450f",
   "metadata": {},
   "outputs": [],
   "source": [
    "import seaborn as sns"
   ]
  },
  {
   "cell_type": "code",
   "execution_count": null,
   "id": "acb9f617-9fda-45af-92b4-3c7c3bf90f10",
   "metadata": {},
   "outputs": [],
   "source": [
    "sns.barplot(x='Nationality', y='Salary', data=merged_df)"
   ]
  },
  {
   "cell_type": "code",
   "execution_count": null,
   "id": "0f0fa373-67a6-45fc-9062-3170cafde2e5",
   "metadata": {},
   "outputs": [],
   "source": []
  }
 ],
 "metadata": {
  "kernelspec": {
   "display_name": "Python 3 (ipykernel)",
   "language": "python",
   "name": "python3"
  },
  "language_info": {
   "codemirror_mode": {
    "name": "ipython",
    "version": 3
   },
   "file_extension": ".py",
   "mimetype": "text/x-python",
   "name": "python",
   "nbconvert_exporter": "python",
   "pygments_lexer": "ipython3",
   "version": "3.11.7"
  }
 },
 "nbformat": 4,
 "nbformat_minor": 5
}
