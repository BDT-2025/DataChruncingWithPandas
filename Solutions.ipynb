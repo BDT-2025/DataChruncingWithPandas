{
 "cells": [
  {
   "cell_type": "code",
   "execution_count": null,
   "id": "e6824c07-4908-4a3a-973f-fe6e3e5bc0a3",
   "metadata": {},
   "outputs": [],
   "source": [
    "import pandas as pd"
   ]
  },
  {
   "cell_type": "code",
   "execution_count": null,
   "id": "36aab987-7df1-4a06-bfcb-300d8df01707",
   "metadata": {},
   "outputs": [],
   "source": [
    "import json"
   ]
  },
  {
   "cell_type": "code",
   "execution_count": null,
   "id": "39e6766d-82c7-46e5-bd00-34c11227a9db",
   "metadata": {},
   "outputs": [],
   "source": [
    "import seaborn as sns"
   ]
  },
  {
   "cell_type": "code",
   "execution_count": null,
   "id": "9dace9d4-344b-4e6c-a357-b8cba8edcbf3",
   "metadata": {},
   "outputs": [],
   "source": [
    "from datetime import datetime"
   ]
  },
  {
   "cell_type": "markdown",
   "id": "41384e0f-6bc6-4c80-9eca-34768838e141",
   "metadata": {},
   "source": [
    "# EX 1"
   ]
  },
  {
   "cell_type": "code",
   "execution_count": null,
   "id": "62f9f247-a2c5-435c-afc8-b103d00f04d3",
   "metadata": {},
   "outputs": [],
   "source": [
    "books = pd.read_json(\"data/books.json\")\n",
    "books"
   ]
  },
  {
   "cell_type": "code",
   "execution_count": null,
   "id": "02c5e338-387a-44d2-ac77-5500ef17bbe9",
   "metadata": {},
   "outputs": [],
   "source": [
    "books[books[\"author\"] == \"Gabriel Garcia Marquez\"]"
   ]
  },
  {
   "cell_type": "code",
   "execution_count": null,
   "id": "4efab114-c09b-48c4-ba8b-e79977250bf6",
   "metadata": {},
   "outputs": [],
   "source": [
    "books.loc[books[\"author\"] != \"George Orwell\"]"
   ]
  },
  {
   "cell_type": "code",
   "execution_count": null,
   "id": "c5d04424-7b0b-4c8a-92de-4603c2ef1772",
   "metadata": {},
   "outputs": [],
   "source": [
    "books.groupby(\"author\").agg({\"title\": \"count\"}).sort_values(\"title\", ascending=False)"
   ]
  },
  {
   "cell_type": "code",
   "execution_count": null,
   "id": "6a59a254-cd69-4966-aff1-2c4e2629f0b6",
   "metadata": {},
   "outputs": [],
   "source": []
  },
  {
   "cell_type": "markdown",
   "id": "94a29e47-231f-4d3e-a181-584a99477fd0",
   "metadata": {},
   "source": [
    "# EX 2"
   ]
  },
  {
   "cell_type": "code",
   "execution_count": null,
   "id": "c0f6e3fd-5d6d-4cc8-921f-a37b3961cf4c",
   "metadata": {},
   "outputs": [],
   "source": [
    "sales = pd.read_csv(\"data/sales.csv\")\n",
    "sales"
   ]
  },
  {
   "cell_type": "code",
   "execution_count": null,
   "id": "8314fff0-0c8e-4c4b-bdaf-faa09d9ac01d",
   "metadata": {},
   "outputs": [],
   "source": [
    "sales[\"total\"] = sales[\"quantity\"] * sales[\"price\"]\n",
    "sales"
   ]
  },
  {
   "cell_type": "code",
   "execution_count": null,
   "id": "b8925f6b-3ea2-46bd-8e5a-65b3d468e632",
   "metadata": {},
   "outputs": [],
   "source": [
    "sales = sales.sort_values(\"total\", ascending=False)\n",
    "sales.head()"
   ]
  },
  {
   "cell_type": "code",
   "execution_count": null,
   "id": "8719b10b-0e71-4ad6-9287-70c0a48947a0",
   "metadata": {},
   "outputs": [],
   "source": [
    "sales.to_json(\"sales_exported.json\")"
   ]
  },
  {
   "cell_type": "code",
   "execution_count": null,
   "id": "c4ce1f21-27d6-4279-9fd8-070e1ae036b5",
   "metadata": {},
   "outputs": [],
   "source": [
    "grouped_sales = sales.groupby(\"product_id\").agg({\"total\":\"sum\"})\n",
    "grouped_sales.head()"
   ]
  },
  {
   "cell_type": "code",
   "execution_count": null,
   "id": "8b941585-ceb5-4d71-ab67-7b0fd36fa040",
   "metadata": {},
   "outputs": [],
   "source": [
    "sns.barplot(grouped_sales, x=\"product_id\", y=\"total\")"
   ]
  },
  {
   "cell_type": "code",
   "execution_count": null,
   "id": "08a10ba2-c312-4e88-a946-023ccde25f37",
   "metadata": {},
   "outputs": [],
   "source": []
  },
  {
   "cell_type": "markdown",
   "id": "d227aad4-5a4e-4a82-aa31-a878b18150a3",
   "metadata": {},
   "source": [
    "# EX3"
   ]
  },
  {
   "cell_type": "code",
   "execution_count": null,
   "id": "58a4a5ec-dec9-4255-a134-5141c60d20e7",
   "metadata": {},
   "outputs": [],
   "source": [
    "product = pd.read_json(\"data/product.json\")\n",
    "product.head()"
   ]
  },
  {
   "cell_type": "code",
   "execution_count": null,
   "id": "c7615a0d-59b7-4422-a8e2-1d06bd2feec7",
   "metadata": {},
   "outputs": [],
   "source": [
    "merged = pd.merge(sales, product, on=\"product_id\", how=\"outer\")\n",
    "merged"
   ]
  },
  {
   "cell_type": "code",
   "execution_count": null,
   "id": "ee775dd9-97c7-4dde-8c38-14d34d2f1f14",
   "metadata": {},
   "outputs": [],
   "source": [
    "merged.info()"
   ]
  },
  {
   "cell_type": "code",
   "execution_count": null,
   "id": "73b851a1-9557-4776-a6a7-9e5c01f3e937",
   "metadata": {},
   "outputs": [],
   "source": [
    "merged = merged.loc[merged[\"price\"] >= 300]\n",
    "merged.info()"
   ]
  },
  {
   "cell_type": "code",
   "execution_count": null,
   "id": "3319c4f6-4037-4729-b563-aebc772203d2",
   "metadata": {},
   "outputs": [],
   "source": []
  },
  {
   "cell_type": "code",
   "execution_count": null,
   "id": "f12d020d-1c5d-4314-8142-aae1dcc5a36f",
   "metadata": {},
   "outputs": [],
   "source": []
  },
  {
   "cell_type": "code",
   "execution_count": null,
   "id": "7b77f739-83eb-4fd2-b786-106a05227e6b",
   "metadata": {},
   "outputs": [],
   "source": []
  },
  {
   "cell_type": "markdown",
   "id": "bfcf217a-717b-493d-a6a9-b1ab388d8a2b",
   "metadata": {},
   "source": [
    "# Ex4"
   ]
  },
  {
   "cell_type": "code",
   "execution_count": null,
   "id": "66c4808b-91e1-461e-b7cf-a022205507a0",
   "metadata": {},
   "outputs": [],
   "source": [
    "with open(\"data/stations.json\") as stfin:\n",
    "    stations = pd.DataFrame(json.load(stfin))\n",
    "stations"
   ]
  },
  {
   "cell_type": "code",
   "execution_count": null,
   "id": "2f9323a4-c69a-4258-a77b-659e5e854088",
   "metadata": {},
   "outputs": [],
   "source": [
    "weather = pd.read_csv(\"data/weather.csv\")\n",
    "weather"
   ]
  },
  {
   "cell_type": "code",
   "execution_count": null,
   "id": "7373227c-c83c-499b-972d-b0e55746b258",
   "metadata": {},
   "outputs": [],
   "source": [
    "weather.info()"
   ]
  },
  {
   "cell_type": "code",
   "execution_count": null,
   "id": "99021858-9d7f-4687-9035-6a4e70e82e77",
   "metadata": {},
   "outputs": [],
   "source": [
    "weather_merged = pd.merge(stations, weather, on=\"station_id\")\n",
    "weather_merged"
   ]
  },
  {
   "cell_type": "code",
   "execution_count": null,
   "id": "f8b47dc4-db0f-46e0-bd9e-002e90f33f9c",
   "metadata": {},
   "outputs": [],
   "source": [
    "temp_humidity = weather_merged.groupby(\"station_id\").agg({\n",
    "    \"temperature\": \"mean\",\n",
    "    \"humidity\": \"mean\"\n",
    "})\n",
    "temp_humidity"
   ]
  },
  {
   "cell_type": "code",
   "execution_count": null,
   "id": "9498db17-8823-4019-9dd3-6ee9a7c673f1",
   "metadata": {},
   "outputs": [],
   "source": [
    "weather_merged[\"dt\"] = weather_merged[\"date\"].apply(lambda x: datetime.fromisoformat(x))\n",
    "weather_merged.info()"
   ]
  },
  {
   "cell_type": "code",
   "execution_count": null,
   "id": "c4acf1bc-afd6-40d7-8d14-eb8388d9f5f7",
   "metadata": {},
   "outputs": [],
   "source": [
    "sns.lineplot(weather_merged, x=\"dt\", y=\"temperature\", hue=\"station_id\")"
   ]
  },
  {
   "cell_type": "code",
   "execution_count": null,
   "id": "0b3f7690-be73-4404-9b4d-1c124bb8ea50",
   "metadata": {},
   "outputs": [],
   "source": [
    "weather_merged[\"year-month\"] = weather_merged[\"dt\"].apply(lambda x: datetime(year=x.year, month=x.month, day=1))\n",
    "weather_merged.head()"
   ]
  },
  {
   "cell_type": "code",
   "execution_count": null,
   "id": "2b4caa42-1acf-412b-8c11-61c0b45e33e7",
   "metadata": {},
   "outputs": [],
   "source": [
    "weather_merged_grouped = weather_merged.groupby([\"station_id\", \"year-month\"]).agg({\"temperature\":\"mean\", \"humidity\":\"mean\"})\n",
    "weather_merged_grouped.head()"
   ]
  },
  {
   "cell_type": "code",
   "execution_count": null,
   "id": "4954d047-a3ce-4731-8d1d-5f48c17cd5f8",
   "metadata": {},
   "outputs": [],
   "source": [
    "sns.lineplot(weather_merged_grouped, x=\"year-month\", y=\"temperature\", hue=\"station_id\")"
   ]
  },
  {
   "cell_type": "code",
   "execution_count": null,
   "id": "88c68aeb-8a86-4c72-a1dd-0a6e10d12d5f",
   "metadata": {},
   "outputs": [],
   "source": [
    "sns.lineplot(weather_merged_grouped, x=\"year-month\", y=\"humidity\", hue=\"station_id\")"
   ]
  },
  {
   "cell_type": "code",
   "execution_count": null,
   "id": "72beee9c-02ea-4678-9396-2d6162d6ad9d",
   "metadata": {},
   "outputs": [],
   "source": []
  }
 ],
 "metadata": {
  "kernelspec": {
   "display_name": "Python 3 (ipykernel)",
   "language": "python",
   "name": "python3"
  },
  "language_info": {
   "codemirror_mode": {
    "name": "ipython",
    "version": 3
   },
   "file_extension": ".py",
   "mimetype": "text/x-python",
   "name": "python",
   "nbconvert_exporter": "python",
   "pygments_lexer": "ipython3",
   "version": "3.11.7"
  }
 },
 "nbformat": 4,
 "nbformat_minor": 5
}
